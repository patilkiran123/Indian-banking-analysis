{
 "cells": [
  {
   "cell_type": "markdown",
   "metadata": {},
   "source": [
    "# Web Scraping"
   ]
  },
  {
   "cell_type": "markdown",
   "metadata": {},
   "source": [
    "This notebook focuses on scraping relevant data from the RBI website to gather information on card usage metrics.   \n",
    "Link: https://www.rbi.org.in/Scripts/ATMView.aspx  \n",
    "Data needed from Apr 22 to Mar 23."
   ]
  },
  {
   "cell_type": "code",
   "execution_count": 1,
   "metadata": {},
   "outputs": [],
   "source": [
    "# Import Selenium and Requests\n",
    "# Selenium: Web scraping library for browser automation\n",
    "# Requests: Library for making HTTP requests\n",
    "try:\n",
    "    import selenium\n",
    "except ImportError:\n",
    "    !pip install selenium\n",
    "    import selenium\n",
    "\n",
    "try:\n",
    "    import requests\n",
    "except ImportError:\n",
    "    !pip install requests\n",
    "    import requests\n"
   ]
  },
  {
   "cell_type": "code",
   "execution_count": 2,
   "metadata": {},
   "outputs": [],
   "source": [
    "# import necessary libraries\n",
    "from selenium import webdriver\n",
    "from selenium.webdriver.common.by import By\n",
    "from urllib.parse import urljoin\n",
    "import os\n",
    "from selenium.webdriver.support.ui import WebDriverWait\n",
    "from selenium.webdriver.support import expected_conditions as EC\n",
    "\n",
    "# RBI website url -starting point\n",
    "base_url = \"https://www.rbi.org.in/Scripts/ATMView.aspx\"\n"
   ]
  },
  {
   "cell_type": "code",
   "execution_count": 3,
   "metadata": {},
   "outputs": [],
   "source": [
    "# function to get all excel links w.r.t year, months[]\n",
    "def scrape_excel_links_for_year_and_months (year, required_months):\n",
    "    # Set up the Chrome driver\n",
    "    chrome_options = webdriver.ChromeOptions()\n",
    "    # chrome_options.add_argument('--headless')  # Optional: Run Chrome in headless mode (without GUI)\n",
    "    driver = webdriver.Chrome(options=chrome_options)\n",
    "\n",
    "    # Open the RBI website\n",
    "    driver.get(base_url)\n",
    "\n",
    "    try:\n",
    "        # Wait for the \"treeYearMonth_PR\" div to be present before trying to find the button\n",
    "        tree_year_month_div = WebDriverWait(driver, 10).until(\n",
    "            EC.presence_of_element_located((By.ID, \"treeYearMonth_PR\"))\n",
    "        )\n",
    "\n",
    "        # Find and click the \"btn{year}\" button inside the \"treeYearMonth_PR\" div\n",
    "        btn_year = tree_year_month_div.find_element(By.ID, f'btn{year}')\n",
    "        btn_year.click()\n",
    "\n",
    "        # Find and click the \"{year}0\" link inside the \"btn{year}\" div\n",
    "        all_months_this_year = btn_year.find_element(By.XPATH, f'//li/a[@id=\"{year}0\"]')\n",
    "        all_months_this_year.click()\n",
    "\n",
    "        # Wait for the \"doublescroll\" div to be present before trying to find the table\n",
    "        doublescroll_div = WebDriverWait(driver, 20).until(\n",
    "            EC.presence_of_element_located((By.ID, \"doublescroll\"))\n",
    "        )\n",
    "\n",
    "        # Find the table inside \"doublescroll\" div\n",
    "        table = doublescroll_div.find_element(By.XPATH, '//table[@class=\"tablebg\"]//tbody')\n",
    "\n",
    "        # saving required excel links\n",
    "        excel_links = []\n",
    "\n",
    "        # Iterate through each row in the table\n",
    "        for row in table.find_elements(By.TAG_NAME, 'tr'):\n",
    "            # Extract the text from the a tag inside the first column (td[0])\n",
    "            try:\n",
    "                month_text = row.find_element(By.XPATH, 'td[1]//a').text\n",
    "                \n",
    "                # Check if the month_text contains April to December\n",
    "                if any(month in month_text for month in required_months):\n",
    "                    # Process the row accordingly\n",
    "                    for links in row.find_elements(By.TAG_NAME, \"a\"):\n",
    "                        href = links.get_attribute(\"href\")\n",
    "                        if href and href.lower().endswith(\".xlsx\"):\n",
    "                            excel_links.append(href)\n",
    "\n",
    "            except:\n",
    "                pass\n",
    "            \n",
    "        # returns excel_links[] for the give argument year,months\n",
    "        return excel_links\n",
    "\n",
    "    finally:\n",
    "        # Close the browser window\n",
    "        driver.quit()\n"
   ]
  },
  {
   "cell_type": "code",
   "execution_count": 4,
   "metadata": {},
   "outputs": [],
   "source": [
    "# Create a directory to store downloaded files\n",
    "download_dir = \"Scraped_Data\"\n",
    "os.makedirs(download_dir, exist_ok=True)\n",
    "\n",
    "# function to save file in & name it as\n",
    "def save_file(file_url, file_path, file_name):\n",
    "    # Download the Excel file as binary\n",
    "    response = requests.get(file_url)\n",
    "\n",
    "    # Save the file content in the directory\n",
    "    with open(file_path, \"wb\") as file:\n",
    "        file.write(response.content)\n",
    "        print(f\"Downloaded: {file_name}\")\n",
    "\n",
    "# function to download all the excels using link\n",
    "def download(excel_links):\n",
    "    # Download and save Excel files\n",
    "    for link in excel_links:\n",
    "        file_url = urljoin(base_url, link)\n",
    "\n",
    "        if 'ATM24062022' in link:\n",
    "            # Rename the file to ATMMAY2022\n",
    "            file_name = 'ATMMAY2022.XLSX'\n",
    "            file_path = os.path.join(download_dir, file_name)\n",
    "            save_file(file_url, file_path, file_name)\n",
    "\n",
    "        elif '01ATM2023' in link:\n",
    "            # Rename the file to ATMJan2023\n",
    "            file_name = 'ATMJan2023.XLSX'\n",
    "            file_path = os.path.join(download_dir, file_name)\n",
    "            save_file(file_url, file_path, file_name)\n",
    "\n",
    "        else:\n",
    "            file_name = os.path.basename(file_url)\n",
    "            file_path = os.path.join(download_dir, file_name)\n",
    "            save_file(file_url, file_path, file_name)\n",
    "\n",
    "    print(\"Downloads succeeded!\")"
   ]
  },
  {
   "cell_type": "code",
   "execution_count": 5,
   "metadata": {},
   "outputs": [
    {
     "data": {
      "text/plain": [
       "['https://rbidocs.rbi.org.in/rdocs/ATM/DOCs/ATMDECEMBER2022CFA6547F8B7F4CAD9711F84B0FDA47B4.XLSX',\n",
       " 'https://rbidocs.rbi.org.in/rdocs/ATM/DOCs/ATMNOVEMBER202258C819A62B7A4E62A5CD18B89722B406.XLSX',\n",
       " 'https://rbidocs.rbi.org.in/rdocs/ATM/DOCs/ATMOCTOBER202268A5EE9DC3C8404D931EEED487A22380.XLSX',\n",
       " 'https://rbidocs.rbi.org.in/rdocs/ATM/DOCs/ATMSEPT2022757FCD4121974841840DF3A80AA9B5F0.XLSX',\n",
       " 'https://rbidocs.rbi.org.in/rdocs/ATM/DOCs/ATMAUGUST20222A25E249961C42F5B5AD54F25F2FC9FD.XLSX',\n",
       " 'https://rbidocs.rbi.org.in/rdocs/ATM/DOCs/ATMJULY20224C14FCD4FB824FF88D5F00BD92FF64C7.XLSX',\n",
       " 'https://rbidocs.rbi.org.in/rdocs/ATM/DOCs/ATMJUNE2022609740452711440CA003589C4F9CA184.XLSX',\n",
       " 'https://rbidocs.rbi.org.in/rdocs/ATM/DOCs/ATM24062022B1682B16A8DE46F9A4EF93B1A45F4483.XLSX',\n",
       " 'https://rbidocs.rbi.org.in/rdocs/ATM/DOCs/ATMAICSAPRIL2022DCE60947F453408BB0B9B12FC25B4FB3.XLSX']"
      ]
     },
     "execution_count": 5,
     "metadata": {},
     "output_type": "execute_result"
    }
   ],
   "source": [
    "# get excel links for year 2022 from April to December\n",
    "excel_links_2022 = []\n",
    "for_2022_months = ['April', 'May', 'June', 'July', 'August', 'September', 'October', 'November', 'December']\n",
    "excel_links_2022 = scrape_excel_links_for_year_and_months (\"2022\", for_2022_months)\n",
    "excel_links_2022"
   ]
  },
  {
   "cell_type": "code",
   "execution_count": 6,
   "metadata": {},
   "outputs": [
    {
     "name": "stdout",
     "output_type": "stream",
     "text": [
      "Downloaded: ATMDECEMBER2022CFA6547F8B7F4CAD9711F84B0FDA47B4.XLSX\n",
      "Downloaded: ATMNOVEMBER202258C819A62B7A4E62A5CD18B89722B406.XLSX\n",
      "Downloaded: ATMOCTOBER202268A5EE9DC3C8404D931EEED487A22380.XLSX\n",
      "Downloaded: ATMSEPT2022757FCD4121974841840DF3A80AA9B5F0.XLSX\n",
      "Downloaded: ATMAUGUST20222A25E249961C42F5B5AD54F25F2FC9FD.XLSX\n",
      "Downloaded: ATMJULY20224C14FCD4FB824FF88D5F00BD92FF64C7.XLSX\n",
      "Downloaded: ATMJUNE2022609740452711440CA003589C4F9CA184.XLSX\n",
      "Downloaded: %ATMMAY2022%.XLSX\n",
      "Downloaded: ATMAICSAPRIL2022DCE60947F453408BB0B9B12FC25B4FB3.XLSX\n",
      "Downloads succeeded!\n"
     ]
    }
   ],
   "source": [
    "# download 2022 data\n",
    "download(excel_links_2022)"
   ]
  },
  {
   "cell_type": "code",
   "execution_count": 7,
   "metadata": {},
   "outputs": [
    {
     "data": {
      "text/plain": [
       "['https://rbidocs.rbi.org.in/rdocs/ATM/DOCs/ATMCARDSMARCH2326696F4AA2574B6FBA44619F2E06D710.XLSX',\n",
       " 'https://rbidocs.rbi.org.in/rdocs/ATM/DOCs/ATMCARDSFEBRUARY23338AEF0694164CA3A9699D81995BBD86.XLSX',\n",
       " 'https://rbidocs.rbi.org.in/rdocs/ATM/DOCs/01ATM202390AF58B0729E4A70A0665091361E142A.XLSX']"
      ]
     },
     "execution_count": 7,
     "metadata": {},
     "output_type": "execute_result"
    }
   ],
   "source": [
    "# get excel links for year 2023 from Jan to march\n",
    "excel_links_2023 = []\n",
    "for_2023_months = ['January','February','March']\n",
    "excel_links_2023 = scrape_excel_links_for_year_and_months (\"2023\", for_2023_months)\n",
    "excel_links_2023"
   ]
  },
  {
   "cell_type": "code",
   "execution_count": 8,
   "metadata": {},
   "outputs": [
    {
     "name": "stdout",
     "output_type": "stream",
     "text": [
      "Downloaded: ATMCARDSMARCH2326696F4AA2574B6FBA44619F2E06D710.XLSX\n",
      "Downloaded: ATMCARDSFEBRUARY23338AEF0694164CA3A9699D81995BBD86.XLSX\n",
      "Downloaded: %ATMJan2023%.XLSX\n",
      "Downloads succeeded!\n"
     ]
    }
   ],
   "source": [
    "# Download 2023 data\n",
    "download(excel_links_2023)"
   ]
  }
 ],
 "metadata": {
  "kernelspec": {
   "display_name": "base",
   "language": "python",
   "name": "python3"
  },
  "language_info": {
   "codemirror_mode": {
    "name": "ipython",
    "version": 3
   },
   "file_extension": ".py",
   "mimetype": "text/x-python",
   "name": "python",
   "nbconvert_exporter": "python",
   "pygments_lexer": "ipython3",
   "version": "3.11.5"
  }
 },
 "nbformat": 4,
 "nbformat_minor": 2
}
